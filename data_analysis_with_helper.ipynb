{
 "cells": [
  {
   "cell_type": "code",
   "execution_count": 1,
   "metadata": {},
   "outputs": [],
   "source": [
    "import numpy as np\n",
    "import pandas as pd\n",
    "import matplotlib.pyplot as plt\n",
    "import seaborn as sns\n",
    "%matplotlib inline\n",
    "from datetime import timedelta\n",
    "from analysis_helper import combine_data"
   ]
  },
  {
   "cell_type": "code",
   "execution_count": 2,
   "metadata": {},
   "outputs": [],
   "source": [
    "supermarket_data = combine_data(\"./data/\")"
   ]
  },
  {
   "cell_type": "code",
   "execution_count": 3,
   "metadata": {},
   "outputs": [
    {
     "data": {
      "text/html": [
       "<div>\n",
       "<style scoped>\n",
       "    .dataframe tbody tr th:only-of-type {\n",
       "        vertical-align: middle;\n",
       "    }\n",
       "\n",
       "    .dataframe tbody tr th {\n",
       "        vertical-align: top;\n",
       "    }\n",
       "\n",
       "    .dataframe thead th {\n",
       "        text-align: right;\n",
       "    }\n",
       "</style>\n",
       "<table border=\"1\" class=\"dataframe\">\n",
       "  <thead>\n",
       "    <tr style=\"text-align: right;\">\n",
       "      <th></th>\n",
       "      <th>customer_no</th>\n",
       "      <th>location</th>\n",
       "      <th>unique_id</th>\n",
       "    </tr>\n",
       "    <tr>\n",
       "      <th>timestamp</th>\n",
       "      <th></th>\n",
       "      <th></th>\n",
       "      <th></th>\n",
       "    </tr>\n",
       "  </thead>\n",
       "  <tbody>\n",
       "    <tr>\n",
       "      <th>2019-09-03 07:02:00</th>\n",
       "      <td>1</td>\n",
       "      <td>fruit</td>\n",
       "      <td>1.1</td>\n",
       "    </tr>\n",
       "    <tr>\n",
       "      <th>2019-09-03 07:02:00</th>\n",
       "      <td>2</td>\n",
       "      <td>drinks</td>\n",
       "      <td>2.1</td>\n",
       "    </tr>\n",
       "    <tr>\n",
       "      <th>2019-09-03 07:03:00</th>\n",
       "      <td>1</td>\n",
       "      <td>fruit</td>\n",
       "      <td>1.1</td>\n",
       "    </tr>\n",
       "    <tr>\n",
       "      <th>2019-09-03 07:03:00</th>\n",
       "      <td>2</td>\n",
       "      <td>drinks</td>\n",
       "      <td>2.1</td>\n",
       "    </tr>\n",
       "    <tr>\n",
       "      <th>2019-09-03 07:03:00</th>\n",
       "      <td>3</td>\n",
       "      <td>dairy</td>\n",
       "      <td>3.1</td>\n",
       "    </tr>\n",
       "  </tbody>\n",
       "</table>\n",
       "</div>"
      ],
      "text/plain": [
       "                     customer_no location  unique_id\n",
       "timestamp                                           \n",
       "2019-09-03 07:02:00            1    fruit        1.1\n",
       "2019-09-03 07:02:00            2   drinks        2.1\n",
       "2019-09-03 07:03:00            1    fruit        1.1\n",
       "2019-09-03 07:03:00            2   drinks        2.1\n",
       "2019-09-03 07:03:00            3    dairy        3.1"
      ]
     },
     "execution_count": 3,
     "metadata": {},
     "output_type": "execute_result"
    }
   ],
   "source": [
    "supermarket_data.head()"
   ]
  },
  {
   "cell_type": "markdown",
   "metadata": {},
   "source": [
    "## Total no. of customers in each section"
   ]
  },
  {
   "cell_type": "code",
   "execution_count": 7,
   "metadata": {},
   "outputs": [
    {
     "data": {
      "text/html": [
       "<div>\n",
       "<style scoped>\n",
       "    .dataframe tbody tr th:only-of-type {\n",
       "        vertical-align: middle;\n",
       "    }\n",
       "\n",
       "    .dataframe tbody tr th {\n",
       "        vertical-align: top;\n",
       "    }\n",
       "\n",
       "    .dataframe thead th {\n",
       "        text-align: right;\n",
       "    }\n",
       "</style>\n",
       "<table border=\"1\" class=\"dataframe\">\n",
       "  <thead>\n",
       "    <tr style=\"text-align: right;\">\n",
       "      <th></th>\n",
       "      <th>unique_id</th>\n",
       "    </tr>\n",
       "    <tr>\n",
       "      <th>location</th>\n",
       "      <th></th>\n",
       "    </tr>\n",
       "  </thead>\n",
       "  <tbody>\n",
       "    <tr>\n",
       "      <th>checkout</th>\n",
       "      <td>7445</td>\n",
       "    </tr>\n",
       "    <tr>\n",
       "      <th>dairy</th>\n",
       "      <td>17795</td>\n",
       "    </tr>\n",
       "    <tr>\n",
       "      <th>drinks</th>\n",
       "      <td>9727</td>\n",
       "    </tr>\n",
       "    <tr>\n",
       "      <th>fruit</th>\n",
       "      <td>12718</td>\n",
       "    </tr>\n",
       "    <tr>\n",
       "      <th>spices</th>\n",
       "      <td>6283</td>\n",
       "    </tr>\n",
       "  </tbody>\n",
       "</table>\n",
       "</div>"
      ],
      "text/plain": [
       "          unique_id\n",
       "location           \n",
       "checkout       7445\n",
       "dairy         17795\n",
       "drinks         9727\n",
       "fruit         12718\n",
       "spices         6283"
      ]
     },
     "execution_count": 7,
     "metadata": {},
     "output_type": "execute_result"
    }
   ],
   "source": [
    "supermarket_data.groupby(['location'])[['unique_id']].count()"
   ]
  },
  {
   "cell_type": "markdown",
   "metadata": {},
   "source": [
    "## Customers at checkout over time"
   ]
  },
  {
   "cell_type": "code",
   "execution_count": 8,
   "metadata": {},
   "outputs": [],
   "source": [
    "supermarket_data['time'] = supermarket_data.index.time"
   ]
  },
  {
   "cell_type": "code",
   "execution_count": 9,
   "metadata": {},
   "outputs": [
    {
     "data": {
      "text/html": [
       "<div>\n",
       "<style scoped>\n",
       "    .dataframe tbody tr th:only-of-type {\n",
       "        vertical-align: middle;\n",
       "    }\n",
       "\n",
       "    .dataframe tbody tr th {\n",
       "        vertical-align: top;\n",
       "    }\n",
       "\n",
       "    .dataframe thead th {\n",
       "        text-align: right;\n",
       "    }\n",
       "</style>\n",
       "<table border=\"1\" class=\"dataframe\">\n",
       "  <thead>\n",
       "    <tr style=\"text-align: right;\">\n",
       "      <th></th>\n",
       "      <th>customer_no</th>\n",
       "      <th>location</th>\n",
       "      <th>unique_id</th>\n",
       "      <th>time</th>\n",
       "    </tr>\n",
       "    <tr>\n",
       "      <th>timestamp</th>\n",
       "      <th></th>\n",
       "      <th></th>\n",
       "      <th></th>\n",
       "      <th></th>\n",
       "    </tr>\n",
       "  </thead>\n",
       "  <tbody>\n",
       "    <tr>\n",
       "      <th>2019-09-03 07:02:00</th>\n",
       "      <td>1</td>\n",
       "      <td>fruit</td>\n",
       "      <td>1.1</td>\n",
       "      <td>07:02:00</td>\n",
       "    </tr>\n",
       "    <tr>\n",
       "      <th>2019-09-03 07:02:00</th>\n",
       "      <td>2</td>\n",
       "      <td>drinks</td>\n",
       "      <td>2.1</td>\n",
       "      <td>07:02:00</td>\n",
       "    </tr>\n",
       "    <tr>\n",
       "      <th>2019-09-03 07:03:00</th>\n",
       "      <td>1</td>\n",
       "      <td>fruit</td>\n",
       "      <td>1.1</td>\n",
       "      <td>07:03:00</td>\n",
       "    </tr>\n",
       "    <tr>\n",
       "      <th>2019-09-03 07:03:00</th>\n",
       "      <td>2</td>\n",
       "      <td>drinks</td>\n",
       "      <td>2.1</td>\n",
       "      <td>07:03:00</td>\n",
       "    </tr>\n",
       "    <tr>\n",
       "      <th>2019-09-03 07:03:00</th>\n",
       "      <td>3</td>\n",
       "      <td>dairy</td>\n",
       "      <td>3.1</td>\n",
       "      <td>07:03:00</td>\n",
       "    </tr>\n",
       "  </tbody>\n",
       "</table>\n",
       "</div>"
      ],
      "text/plain": [
       "                     customer_no location  unique_id      time\n",
       "timestamp                                                     \n",
       "2019-09-03 07:02:00            1    fruit        1.1  07:02:00\n",
       "2019-09-03 07:02:00            2   drinks        2.1  07:02:00\n",
       "2019-09-03 07:03:00            1    fruit        1.1  07:03:00\n",
       "2019-09-03 07:03:00            2   drinks        2.1  07:03:00\n",
       "2019-09-03 07:03:00            3    dairy        3.1  07:03:00"
      ]
     },
     "execution_count": 9,
     "metadata": {},
     "output_type": "execute_result"
    }
   ],
   "source": [
    "supermarket_data.head()"
   ]
  },
  {
   "cell_type": "code",
   "execution_count": 10,
   "metadata": {},
   "outputs": [
    {
     "data": {
      "text/html": [
       "<div>\n",
       "<style scoped>\n",
       "    .dataframe tbody tr th:only-of-type {\n",
       "        vertical-align: middle;\n",
       "    }\n",
       "\n",
       "    .dataframe tbody tr th {\n",
       "        vertical-align: top;\n",
       "    }\n",
       "\n",
       "    .dataframe thead th {\n",
       "        text-align: right;\n",
       "    }\n",
       "</style>\n",
       "<table border=\"1\" class=\"dataframe\">\n",
       "  <thead>\n",
       "    <tr style=\"text-align: right;\">\n",
       "      <th></th>\n",
       "      <th></th>\n",
       "      <th>unique_id</th>\n",
       "    </tr>\n",
       "    <tr>\n",
       "      <th>time</th>\n",
       "      <th>location</th>\n",
       "      <th></th>\n",
       "    </tr>\n",
       "  </thead>\n",
       "  <tbody>\n",
       "    <tr>\n",
       "      <th>07:01:00</th>\n",
       "      <th>checkout</th>\n",
       "      <td>0.4</td>\n",
       "    </tr>\n",
       "    <tr>\n",
       "      <th>07:02:00</th>\n",
       "      <th>checkout</th>\n",
       "      <td>1.0</td>\n",
       "    </tr>\n",
       "    <tr>\n",
       "      <th>07:03:00</th>\n",
       "      <th>checkout</th>\n",
       "      <td>0.2</td>\n",
       "    </tr>\n",
       "    <tr>\n",
       "      <th>07:04:00</th>\n",
       "      <th>checkout</th>\n",
       "      <td>0.4</td>\n",
       "    </tr>\n",
       "    <tr>\n",
       "      <th>07:05:00</th>\n",
       "      <th>checkout</th>\n",
       "      <td>1.4</td>\n",
       "    </tr>\n",
       "    <tr>\n",
       "      <th>...</th>\n",
       "      <th>...</th>\n",
       "      <td>...</td>\n",
       "    </tr>\n",
       "    <tr>\n",
       "      <th>21:47:00</th>\n",
       "      <th>checkout</th>\n",
       "      <td>1.0</td>\n",
       "    </tr>\n",
       "    <tr>\n",
       "      <th>21:48:00</th>\n",
       "      <th>checkout</th>\n",
       "      <td>1.4</td>\n",
       "    </tr>\n",
       "    <tr>\n",
       "      <th>21:49:00</th>\n",
       "      <th>checkout</th>\n",
       "      <td>1.2</td>\n",
       "    </tr>\n",
       "    <tr>\n",
       "      <th>21:50:00</th>\n",
       "      <th>checkout</th>\n",
       "      <td>0.4</td>\n",
       "    </tr>\n",
       "    <tr>\n",
       "      <th>21:51:00</th>\n",
       "      <th>checkout</th>\n",
       "      <td>5.6</td>\n",
       "    </tr>\n",
       "  </tbody>\n",
       "</table>\n",
       "<p>891 rows × 1 columns</p>\n",
       "</div>"
      ],
      "text/plain": [
       "                   unique_id\n",
       "time     location           \n",
       "07:01:00 checkout        0.4\n",
       "07:02:00 checkout        1.0\n",
       "07:03:00 checkout        0.2\n",
       "07:04:00 checkout        0.4\n",
       "07:05:00 checkout        1.4\n",
       "...                      ...\n",
       "21:47:00 checkout        1.0\n",
       "21:48:00 checkout        1.4\n",
       "21:49:00 checkout        1.2\n",
       "21:50:00 checkout        0.4\n",
       "21:51:00 checkout        5.6\n",
       "\n",
       "[891 rows x 1 columns]"
      ]
     },
     "execution_count": 10,
     "metadata": {},
     "output_type": "execute_result"
    }
   ],
   "source": [
    "supermarket_data.loc[supermarket_data['location'] == 'checkout'].groupby(['time', 'location'])[['unique_id']].count()/5"
   ]
  },
  {
   "cell_type": "markdown",
   "metadata": {},
   "source": [
    "## No of customers at each section over time"
   ]
  },
  {
   "cell_type": "code",
   "execution_count": 11,
   "metadata": {},
   "outputs": [
    {
     "data": {
      "text/html": [
       "<div>\n",
       "<style scoped>\n",
       "    .dataframe tbody tr th:only-of-type {\n",
       "        vertical-align: middle;\n",
       "    }\n",
       "\n",
       "    .dataframe tbody tr th {\n",
       "        vertical-align: top;\n",
       "    }\n",
       "\n",
       "    .dataframe thead th {\n",
       "        text-align: right;\n",
       "    }\n",
       "</style>\n",
       "<table border=\"1\" class=\"dataframe\">\n",
       "  <thead>\n",
       "    <tr style=\"text-align: right;\">\n",
       "      <th></th>\n",
       "      <th>location</th>\n",
       "      <th>unique_id</th>\n",
       "    </tr>\n",
       "    <tr>\n",
       "      <th>time</th>\n",
       "      <th></th>\n",
       "      <th></th>\n",
       "    </tr>\n",
       "  </thead>\n",
       "  <tbody>\n",
       "    <tr>\n",
       "      <th>07:00:00</th>\n",
       "      <td>dairy</td>\n",
       "      <td>0.6</td>\n",
       "    </tr>\n",
       "    <tr>\n",
       "      <th>07:00:00</th>\n",
       "      <td>drinks</td>\n",
       "      <td>0.6</td>\n",
       "    </tr>\n",
       "    <tr>\n",
       "      <th>07:00:00</th>\n",
       "      <td>fruit</td>\n",
       "      <td>0.8</td>\n",
       "    </tr>\n",
       "    <tr>\n",
       "      <th>07:01:00</th>\n",
       "      <td>checkout</td>\n",
       "      <td>0.4</td>\n",
       "    </tr>\n",
       "    <tr>\n",
       "      <th>07:01:00</th>\n",
       "      <td>dairy</td>\n",
       "      <td>1.2</td>\n",
       "    </tr>\n",
       "    <tr>\n",
       "      <th>...</th>\n",
       "      <td>...</td>\n",
       "      <td>...</td>\n",
       "    </tr>\n",
       "    <tr>\n",
       "      <th>21:50:00</th>\n",
       "      <td>dairy</td>\n",
       "      <td>2.8</td>\n",
       "    </tr>\n",
       "    <tr>\n",
       "      <th>21:50:00</th>\n",
       "      <td>drinks</td>\n",
       "      <td>0.4</td>\n",
       "    </tr>\n",
       "    <tr>\n",
       "      <th>21:50:00</th>\n",
       "      <td>fruit</td>\n",
       "      <td>1.4</td>\n",
       "    </tr>\n",
       "    <tr>\n",
       "      <th>21:50:00</th>\n",
       "      <td>spices</td>\n",
       "      <td>1.0</td>\n",
       "    </tr>\n",
       "    <tr>\n",
       "      <th>21:51:00</th>\n",
       "      <td>checkout</td>\n",
       "      <td>5.6</td>\n",
       "    </tr>\n",
       "  </tbody>\n",
       "</table>\n",
       "<p>4453 rows × 2 columns</p>\n",
       "</div>"
      ],
      "text/plain": [
       "          location  unique_id\n",
       "time                         \n",
       "07:00:00     dairy        0.6\n",
       "07:00:00    drinks        0.6\n",
       "07:00:00     fruit        0.8\n",
       "07:01:00  checkout        0.4\n",
       "07:01:00     dairy        1.2\n",
       "...            ...        ...\n",
       "21:50:00     dairy        2.8\n",
       "21:50:00    drinks        0.4\n",
       "21:50:00     fruit        1.4\n",
       "21:50:00    spices        1.0\n",
       "21:51:00  checkout        5.6\n",
       "\n",
       "[4453 rows x 2 columns]"
      ]
     },
     "execution_count": 11,
     "metadata": {},
     "output_type": "execute_result"
    }
   ],
   "source": [
    "(supermarket_data.groupby(['time', 'location'])[['unique_id']].count()/5).reset_index(level=['location'])"
   ]
  },
  {
   "cell_type": "markdown",
   "metadata": {},
   "source": [
    "## Time spent by each customer in the supermarket"
   ]
  },
  {
   "cell_type": "code",
   "execution_count": 12,
   "metadata": {},
   "outputs": [],
   "source": [
    "exit_time = supermarket_data.reset_index()[['unique_id', 'timestamp']].groupby('unique_id').max().sort_values('unique_id')\n",
    "entry_time = supermarket_data.reset_index()[['unique_id', 'timestamp']].groupby('unique_id').min().sort_values('unique_id')"
   ]
  },
  {
   "cell_type": "code",
   "execution_count": 13,
   "metadata": {},
   "outputs": [
    {
     "data": {
      "text/html": [
       "<div>\n",
       "<style scoped>\n",
       "    .dataframe tbody tr th:only-of-type {\n",
       "        vertical-align: middle;\n",
       "    }\n",
       "\n",
       "    .dataframe tbody tr th {\n",
       "        vertical-align: top;\n",
       "    }\n",
       "\n",
       "    .dataframe thead th {\n",
       "        text-align: right;\n",
       "    }\n",
       "</style>\n",
       "<table border=\"1\" class=\"dataframe\">\n",
       "  <thead>\n",
       "    <tr style=\"text-align: right;\">\n",
       "      <th></th>\n",
       "      <th>timestamp</th>\n",
       "    </tr>\n",
       "    <tr>\n",
       "      <th>unique_id</th>\n",
       "      <th></th>\n",
       "    </tr>\n",
       "  </thead>\n",
       "  <tbody>\n",
       "    <tr>\n",
       "      <th>1.0</th>\n",
       "      <td>0 days 00:02:00</td>\n",
       "    </tr>\n",
       "    <tr>\n",
       "      <th>1.1</th>\n",
       "      <td>0 days 00:10:00</td>\n",
       "    </tr>\n",
       "    <tr>\n",
       "      <th>1.2</th>\n",
       "      <td>0 days 00:02:00</td>\n",
       "    </tr>\n",
       "    <tr>\n",
       "      <th>1.3</th>\n",
       "      <td>0 days 00:02:00</td>\n",
       "    </tr>\n",
       "    <tr>\n",
       "      <th>1.4</th>\n",
       "      <td>0 days 00:05:00</td>\n",
       "    </tr>\n",
       "    <tr>\n",
       "      <th>...</th>\n",
       "      <td>...</td>\n",
       "    </tr>\n",
       "    <tr>\n",
       "      <th>1531.3</th>\n",
       "      <td>0 days 00:03:00</td>\n",
       "    </tr>\n",
       "    <tr>\n",
       "      <th>1532.3</th>\n",
       "      <td>0 days 00:03:00</td>\n",
       "    </tr>\n",
       "    <tr>\n",
       "      <th>1533.3</th>\n",
       "      <td>0 days 00:03:00</td>\n",
       "    </tr>\n",
       "    <tr>\n",
       "      <th>1534.3</th>\n",
       "      <td>0 days 00:01:00</td>\n",
       "    </tr>\n",
       "    <tr>\n",
       "      <th>1535.3</th>\n",
       "      <td>0 days 00:01:00</td>\n",
       "    </tr>\n",
       "  </tbody>\n",
       "</table>\n",
       "<p>7445 rows × 1 columns</p>\n",
       "</div>"
      ],
      "text/plain": [
       "                timestamp\n",
       "unique_id                \n",
       "1.0       0 days 00:02:00\n",
       "1.1       0 days 00:10:00\n",
       "1.2       0 days 00:02:00\n",
       "1.3       0 days 00:02:00\n",
       "1.4       0 days 00:05:00\n",
       "...                   ...\n",
       "1531.3    0 days 00:03:00\n",
       "1532.3    0 days 00:03:00\n",
       "1533.3    0 days 00:03:00\n",
       "1534.3    0 days 00:01:00\n",
       "1535.3    0 days 00:01:00\n",
       "\n",
       "[7445 rows x 1 columns]"
      ]
     },
     "execution_count": 13,
     "metadata": {},
     "output_type": "execute_result"
    }
   ],
   "source": [
    "exit_time - entry_time"
   ]
  },
  {
   "cell_type": "markdown",
   "metadata": {},
   "source": [
    "## total number of customers in the supermarket over time"
   ]
  },
  {
   "cell_type": "code",
   "execution_count": 14,
   "metadata": {},
   "outputs": [
    {
     "data": {
      "text/html": [
       "<div>\n",
       "<style scoped>\n",
       "    .dataframe tbody tr th:only-of-type {\n",
       "        vertical-align: middle;\n",
       "    }\n",
       "\n",
       "    .dataframe tbody tr th {\n",
       "        vertical-align: top;\n",
       "    }\n",
       "\n",
       "    .dataframe thead th {\n",
       "        text-align: right;\n",
       "    }\n",
       "</style>\n",
       "<table border=\"1\" class=\"dataframe\">\n",
       "  <thead>\n",
       "    <tr style=\"text-align: right;\">\n",
       "      <th></th>\n",
       "      <th>unique_id</th>\n",
       "    </tr>\n",
       "    <tr>\n",
       "      <th>time</th>\n",
       "      <th></th>\n",
       "    </tr>\n",
       "  </thead>\n",
       "  <tbody>\n",
       "    <tr>\n",
       "      <th>07:00:00</th>\n",
       "      <td>2.0</td>\n",
       "    </tr>\n",
       "    <tr>\n",
       "      <th>07:01:00</th>\n",
       "      <td>3.2</td>\n",
       "    </tr>\n",
       "    <tr>\n",
       "      <th>07:02:00</th>\n",
       "      <td>3.6</td>\n",
       "    </tr>\n",
       "    <tr>\n",
       "      <th>07:03:00</th>\n",
       "      <td>5.0</td>\n",
       "    </tr>\n",
       "    <tr>\n",
       "      <th>07:04:00</th>\n",
       "      <td>6.8</td>\n",
       "    </tr>\n",
       "    <tr>\n",
       "      <th>...</th>\n",
       "      <td>...</td>\n",
       "    </tr>\n",
       "    <tr>\n",
       "      <th>21:47:00</th>\n",
       "      <td>6.8</td>\n",
       "    </tr>\n",
       "    <tr>\n",
       "      <th>21:48:00</th>\n",
       "      <td>7.6</td>\n",
       "    </tr>\n",
       "    <tr>\n",
       "      <th>21:49:00</th>\n",
       "      <td>6.4</td>\n",
       "    </tr>\n",
       "    <tr>\n",
       "      <th>21:50:00</th>\n",
       "      <td>6.0</td>\n",
       "    </tr>\n",
       "    <tr>\n",
       "      <th>21:51:00</th>\n",
       "      <td>5.6</td>\n",
       "    </tr>\n",
       "  </tbody>\n",
       "</table>\n",
       "<p>892 rows × 1 columns</p>\n",
       "</div>"
      ],
      "text/plain": [
       "          unique_id\n",
       "time               \n",
       "07:00:00        2.0\n",
       "07:01:00        3.2\n",
       "07:02:00        3.6\n",
       "07:03:00        5.0\n",
       "07:04:00        6.8\n",
       "...             ...\n",
       "21:47:00        6.8\n",
       "21:48:00        7.6\n",
       "21:49:00        6.4\n",
       "21:50:00        6.0\n",
       "21:51:00        5.6\n",
       "\n",
       "[892 rows x 1 columns]"
      ]
     },
     "execution_count": 14,
     "metadata": {},
     "output_type": "execute_result"
    }
   ],
   "source": [
    "(supermarket_data.groupby(['time'])[['unique_id']].count()/5) #.loc[pd.to_datetime('07:00:00').time()][0]"
   ]
  },
  {
   "cell_type": "code",
   "execution_count": 15,
   "metadata": {},
   "outputs": [
    {
     "data": {
      "text/plain": [
       "<AxesSubplot:xlabel='time'>"
      ]
     },
     "execution_count": 15,
     "metadata": {},
     "output_type": "execute_result"
    },
    {
     "data": {
      "image/png": "[encoded data removed]",
      "text/plain": [
       "<Figure size 1080x720 with 1 Axes>"
      ]
     },
     "metadata": {
      "needs_background": "light"
     },
     "output_type": "display_data"
    }
   ],
   "source": [
    "(supermarket_data.groupby(['time'])[['unique_id']].count()/5).plot(figsize=(15, 10))"
   ]
  },
  {
   "cell_type": "markdown",
   "metadata": {},
   "source": [
    "## First section probability"
   ]
  },
  {
   "cell_type": "code",
   "execution_count": 16,
   "metadata": {},
   "outputs": [
    {
     "data": {
      "text/html": [
       "<div>\n",
       "<style scoped>\n",
       "    .dataframe tbody tr th:only-of-type {\n",
       "        vertical-align: middle;\n",
       "    }\n",
       "\n",
       "    .dataframe tbody tr th {\n",
       "        vertical-align: top;\n",
       "    }\n",
       "\n",
       "    .dataframe thead th {\n",
       "        text-align: right;\n",
       "    }\n",
       "</style>\n",
       "<table border=\"1\" class=\"dataframe\">\n",
       "  <thead>\n",
       "    <tr style=\"text-align: right;\">\n",
       "      <th></th>\n",
       "      <th>unique_id</th>\n",
       "    </tr>\n",
       "    <tr>\n",
       "      <th>location</th>\n",
       "      <th></th>\n",
       "    </tr>\n",
       "  </thead>\n",
       "  <tbody>\n",
       "    <tr>\n",
       "      <th>dairy</th>\n",
       "      <td>0.382499</td>\n",
       "    </tr>\n",
       "    <tr>\n",
       "      <th>drinks</th>\n",
       "      <td>0.209079</td>\n",
       "    </tr>\n",
       "    <tr>\n",
       "      <th>fruit</th>\n",
       "      <td>0.273370</td>\n",
       "    </tr>\n",
       "    <tr>\n",
       "      <th>spices</th>\n",
       "      <td>0.135051</td>\n",
       "    </tr>\n",
       "  </tbody>\n",
       "</table>\n",
       "</div>"
      ],
      "text/plain": [
       "          unique_id\n",
       "location           \n",
       "dairy      0.382499\n",
       "drinks     0.209079\n",
       "fruit      0.273370\n",
       "spices     0.135051"
      ]
     },
     "execution_count": 16,
     "metadata": {},
     "output_type": "execute_result"
    }
   ],
   "source": [
    "supermarket_data[supermarket_data['location'] != 'checkout'].groupby('location')[['unique_id']].count()/len(supermarket_data[supermarket_data['location'] != 'checkout'])"
   ]
  },
  {
   "cell_type": "code",
   "execution_count": 17,
   "metadata": {},
   "outputs": [
    {
     "data": {
      "text/plain": [
       "array(['fruit', 'drinks', 'dairy', 'spices', 'checkout'], dtype=object)"
      ]
     },
     "execution_count": 17,
     "metadata": {},
     "output_type": "execute_result"
    }
   ],
   "source": [
    "supermarket_data.location.unique()"
   ]
  },
  {
   "cell_type": "markdown",
   "metadata": {},
   "source": [
    "## Add the following section column to data"
   ]
  },
  {
   "cell_type": "code",
   "execution_count": 18,
   "metadata": {},
   "outputs": [],
   "source": [
    "supermarket_data['following'] = supermarket_data.groupby('customer_no')[['location']].shift(-1)"
   ]
  },
  {
   "cell_type": "code",
   "execution_count": 19,
   "metadata": {},
   "outputs": [
    {
     "data": {
      "text/html": [
       "<div>\n",
       "<style scoped>\n",
       "    .dataframe tbody tr th:only-of-type {\n",
       "        vertical-align: middle;\n",
       "    }\n",
       "\n",
       "    .dataframe tbody tr th {\n",
       "        vertical-align: top;\n",
       "    }\n",
       "\n",
       "    .dataframe thead th {\n",
       "        text-align: right;\n",
       "    }\n",
       "</style>\n",
       "<table border=\"1\" class=\"dataframe\">\n",
       "  <thead>\n",
       "    <tr style=\"text-align: right;\">\n",
       "      <th></th>\n",
       "      <th>customer_no</th>\n",
       "      <th>location</th>\n",
       "      <th>unique_id</th>\n",
       "      <th>time</th>\n",
       "      <th>following</th>\n",
       "    </tr>\n",
       "    <tr>\n",
       "      <th>timestamp</th>\n",
       "      <th></th>\n",
       "      <th></th>\n",
       "      <th></th>\n",
       "      <th></th>\n",
       "      <th></th>\n",
       "    </tr>\n",
       "  </thead>\n",
       "  <tbody>\n",
       "    <tr>\n",
       "      <th>2019-09-03 07:02:00</th>\n",
       "      <td>1</td>\n",
       "      <td>fruit</td>\n",
       "      <td>1.1</td>\n",
       "      <td>07:02:00</td>\n",
       "      <td>fruit</td>\n",
       "    </tr>\n",
       "    <tr>\n",
       "      <th>2019-09-03 07:02:00</th>\n",
       "      <td>2</td>\n",
       "      <td>drinks</td>\n",
       "      <td>2.1</td>\n",
       "      <td>07:02:00</td>\n",
       "      <td>drinks</td>\n",
       "    </tr>\n",
       "    <tr>\n",
       "      <th>2019-09-03 07:03:00</th>\n",
       "      <td>1</td>\n",
       "      <td>fruit</td>\n",
       "      <td>1.1</td>\n",
       "      <td>07:03:00</td>\n",
       "      <td>fruit</td>\n",
       "    </tr>\n",
       "    <tr>\n",
       "      <th>2019-09-03 07:03:00</th>\n",
       "      <td>2</td>\n",
       "      <td>drinks</td>\n",
       "      <td>2.1</td>\n",
       "      <td>07:03:00</td>\n",
       "      <td>drinks</td>\n",
       "    </tr>\n",
       "    <tr>\n",
       "      <th>2019-09-03 07:03:00</th>\n",
       "      <td>3</td>\n",
       "      <td>dairy</td>\n",
       "      <td>3.1</td>\n",
       "      <td>07:03:00</td>\n",
       "      <td>dairy</td>\n",
       "    </tr>\n",
       "    <tr>\n",
       "      <th>2019-09-03 07:04:00</th>\n",
       "      <td>1</td>\n",
       "      <td>fruit</td>\n",
       "      <td>1.1</td>\n",
       "      <td>07:04:00</td>\n",
       "      <td>drinks</td>\n",
       "    </tr>\n",
       "    <tr>\n",
       "      <th>2019-09-03 07:04:00</th>\n",
       "      <td>2</td>\n",
       "      <td>drinks</td>\n",
       "      <td>2.1</td>\n",
       "      <td>07:04:00</td>\n",
       "      <td>drinks</td>\n",
       "    </tr>\n",
       "    <tr>\n",
       "      <th>2019-09-03 07:04:00</th>\n",
       "      <td>3</td>\n",
       "      <td>dairy</td>\n",
       "      <td>3.1</td>\n",
       "      <td>07:04:00</td>\n",
       "      <td>dairy</td>\n",
       "    </tr>\n",
       "    <tr>\n",
       "      <th>2019-09-03 07:05:00</th>\n",
       "      <td>1</td>\n",
       "      <td>drinks</td>\n",
       "      <td>1.1</td>\n",
       "      <td>07:05:00</td>\n",
       "      <td>drinks</td>\n",
       "    </tr>\n",
       "    <tr>\n",
       "      <th>2019-09-03 07:05:00</th>\n",
       "      <td>2</td>\n",
       "      <td>drinks</td>\n",
       "      <td>2.1</td>\n",
       "      <td>07:05:00</td>\n",
       "      <td>drinks</td>\n",
       "    </tr>\n",
       "  </tbody>\n",
       "</table>\n",
       "</div>"
      ],
      "text/plain": [
       "                     customer_no location  unique_id      time following\n",
       "timestamp                                                               \n",
       "2019-09-03 07:02:00            1    fruit        1.1  07:02:00     fruit\n",
       "2019-09-03 07:02:00            2   drinks        2.1  07:02:00    drinks\n",
       "2019-09-03 07:03:00            1    fruit        1.1  07:03:00     fruit\n",
       "2019-09-03 07:03:00            2   drinks        2.1  07:03:00    drinks\n",
       "2019-09-03 07:03:00            3    dairy        3.1  07:03:00     dairy\n",
       "2019-09-03 07:04:00            1    fruit        1.1  07:04:00    drinks\n",
       "2019-09-03 07:04:00            2   drinks        2.1  07:04:00    drinks\n",
       "2019-09-03 07:04:00            3    dairy        3.1  07:04:00     dairy\n",
       "2019-09-03 07:05:00            1   drinks        1.1  07:05:00    drinks\n",
       "2019-09-03 07:05:00            2   drinks        2.1  07:05:00    drinks"
      ]
     },
     "execution_count": 19,
     "metadata": {},
     "output_type": "execute_result"
    }
   ],
   "source": [
    "supermarket_data.head(10)"
   ]
  },
  {
   "cell_type": "code",
   "execution_count": 20,
   "metadata": {},
   "outputs": [
    {
     "data": {
      "text/plain": [
       "(datetime.time(7, 0), datetime.time(21, 51))"
      ]
     },
     "execution_count": 20,
     "metadata": {},
     "output_type": "execute_result"
    }
   ],
   "source": [
    "supermarket_data.time.min(), supermarket_data.time.max()"
   ]
  },
  {
   "cell_type": "markdown",
   "metadata": {},
   "source": [
    "## Transition matrix for sections"
   ]
  },
  {
   "cell_type": "code",
   "execution_count": 21,
   "metadata": {},
   "outputs": [
    {
     "data": {
      "text/html": [
       "<div>\n",
       "<style scoped>\n",
       "    .dataframe tbody tr th:only-of-type {\n",
       "        vertical-align: middle;\n",
       "    }\n",
       "\n",
       "    .dataframe tbody tr th {\n",
       "        vertical-align: top;\n",
       "    }\n",
       "\n",
       "    .dataframe thead th {\n",
       "        text-align: right;\n",
       "    }\n",
       "</style>\n",
       "<table border=\"1\" class=\"dataframe\">\n",
       "  <thead>\n",
       "    <tr style=\"text-align: right;\">\n",
       "      <th>following</th>\n",
       "      <th>checkout</th>\n",
       "      <th>dairy</th>\n",
       "      <th>drinks</th>\n",
       "      <th>fruit</th>\n",
       "      <th>spices</th>\n",
       "    </tr>\n",
       "    <tr>\n",
       "      <th>location</th>\n",
       "      <th></th>\n",
       "      <th></th>\n",
       "      <th></th>\n",
       "      <th></th>\n",
       "      <th></th>\n",
       "    </tr>\n",
       "  </thead>\n",
       "  <tbody>\n",
       "    <tr>\n",
       "      <th>checkout</th>\n",
       "      <td>0.000000</td>\n",
       "      <td>0.287140</td>\n",
       "      <td>0.151777</td>\n",
       "      <td>0.374112</td>\n",
       "      <td>0.186971</td>\n",
       "    </tr>\n",
       "    <tr>\n",
       "      <th>dairy</th>\n",
       "      <td>0.103344</td>\n",
       "      <td>0.737061</td>\n",
       "      <td>0.058500</td>\n",
       "      <td>0.049789</td>\n",
       "      <td>0.051307</td>\n",
       "    </tr>\n",
       "    <tr>\n",
       "      <th>drinks</th>\n",
       "      <td>0.215688</td>\n",
       "      <td>0.010898</td>\n",
       "      <td>0.598540</td>\n",
       "      <td>0.087900</td>\n",
       "      <td>0.086974</td>\n",
       "    </tr>\n",
       "    <tr>\n",
       "      <th>fruit</th>\n",
       "      <td>0.201447</td>\n",
       "      <td>0.095848</td>\n",
       "      <td>0.054804</td>\n",
       "      <td>0.597264</td>\n",
       "      <td>0.050637</td>\n",
       "    </tr>\n",
       "    <tr>\n",
       "      <th>spices</th>\n",
       "      <td>0.150565</td>\n",
       "      <td>0.193061</td>\n",
       "      <td>0.162979</td>\n",
       "      <td>0.090880</td>\n",
       "      <td>0.402515</td>\n",
       "    </tr>\n",
       "  </tbody>\n",
       "</table>\n",
       "</div>"
      ],
      "text/plain": [
       "following  checkout     dairy    drinks     fruit    spices\n",
       "location                                                   \n",
       "checkout   0.000000  0.287140  0.151777  0.374112  0.186971\n",
       "dairy      0.103344  0.737061  0.058500  0.049789  0.051307\n",
       "drinks     0.215688  0.010898  0.598540  0.087900  0.086974\n",
       "fruit      0.201447  0.095848  0.054804  0.597264  0.050637\n",
       "spices     0.150565  0.193061  0.162979  0.090880  0.402515"
      ]
     },
     "execution_count": 21,
     "metadata": {},
     "output_type": "execute_result"
    }
   ],
   "source": [
    "pd.crosstab(supermarket_data['location'], supermarket_data['following'], normalize=0)"
   ]
  },
  {
   "cell_type": "code",
   "execution_count": 22,
   "metadata": {},
   "outputs": [],
   "source": [
    "transition_matrix = pd.crosstab(supermarket_data['location'], supermarket_data['following'], normalize=0).values"
   ]
  },
  {
   "cell_type": "code",
   "execution_count": 23,
   "metadata": {},
   "outputs": [
    {
     "data": {
      "text/plain": [
       "array([[0.        , 0.28714044, 0.15177665, 0.37411168, 0.18697124],\n",
       "       [0.10334364, 0.73706097, 0.05849958, 0.04978927, 0.05130655],\n",
       "       [0.21568829, 0.0108975 , 0.59854015, 0.08789966, 0.0869744 ],\n",
       "       [0.20144677, 0.0958484 , 0.05480421, 0.59726372, 0.05063689],\n",
       "       [0.15056502, 0.19306064, 0.16297947, 0.09088015, 0.40251472]])"
      ]
     },
     "execution_count": 23,
     "metadata": {},
     "output_type": "execute_result"
    }
   ],
   "source": [
    "transition_matrix"
   ]
  }
 ],
 "metadata": {
  "kernelspec": {
   "display_name": "Python 3 (ipykernel)",
   "language": "python",
   "name": "python3"
  },
  "language_info": {
   "codemirror_mode": {
    "name": "ipython",
    "version": 3
   },
   "file_extension": ".py",
   "mimetype": "text/x-python",
   "name": "python",
   "nbconvert_exporter": "python",
   "pygments_lexer": "ipython3",
   "version": "3.9.12"
  },
  "vscode": {
   "interpreter": {
    "hash": "3176049865529b4346a87d4ba549f3f62eb9786c7a10a7a1f8d5698cab3955a6"
   }
  }
 },
 "nbformat": 4,
 "nbformat_minor": 2
}
